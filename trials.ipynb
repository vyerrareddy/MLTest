{
 "cells": [
  {
   "cell_type": "code",
   "execution_count": 1,
   "metadata": {},
   "outputs": [],
   "source": [
    "import sys\n",
    "import logging \n",
    "import pandas as pd\n",
    "import numpy as np\n",
    "import xgboost as xgb\n",
    "from utils import read_convert_file \n",
    "from CONSTANTS import FILE_PATH, xgb_params\n",
    "from sklearn.pipeline import Pipeline\n",
    "import joblib"
   ]
  },
  {
   "cell_type": "code",
   "execution_count": 2,
   "metadata": {},
   "outputs": [],
   "source": [
    "# Load the trained pipeline\n",
    "loaded_pipeline = joblib.load('ml_pipeline.pkl')    "
   ]
  },
  {
   "cell_type": "code",
   "execution_count": 24,
   "metadata": {},
   "outputs": [],
   "source": [
    "# New sample data for prediction\n",
    "new_data = pd.DataFrame({'BusinessDate': ['2025-03-25'], 'FiscalYearNumber': [2025], 'FiscalPeriodInYearNumber': [5], 'DayPartCode' : ['Afternoon: 2 PM - 5 PM'], \n",
    "                         'StoreNumber': [10004], 'CustomerOrderChannelName' :['OTW'], \n",
    "                        'RunKey' : [10003] })\n"
   ]
  },
  {
   "cell_type": "code",
   "execution_count": null,
   "metadata": {},
   "outputs": [],
   "source": [
    "processed_new_data = new_data.copy() #read the file.\n",
    "processed_new_data['BusinessDate'] = pd.to_datetime(processed_new_data['BusinessDate'])\n",
    "processed_new_data = processed_new_data.set_index('BusinessDate')\n",
    "# processed_new_data = loaded_pipeline.named_steps['read_convert_file'].transform(processed_new_data)\n",
    "processed_new_data = loaded_pipeline.named_steps['time_features'].transform(processed_new_data)\n",
    "processed_new_data = loaded_pipeline.named_steps['convert_dtype'].transform(processed_new_data)\n",
    "processed_new_data = loaded_pipeline.named_steps['drop_columns'].transform(processed_new_data)\n",
    "\n",
    "\n"
   ]
  },
  {
   "cell_type": "code",
   "execution_count": 26,
   "metadata": {},
   "outputs": [],
   "source": [
    "# Make predictions using the loaded pipeline\n",
    "predictions = loaded_pipeline.named_steps['xgb'].predict(processed_new_data)"
   ]
  },
  {
   "cell_type": "code",
   "execution_count": 27,
   "metadata": {},
   "outputs": [
    {
     "name": "stdout",
     "output_type": "stream",
     "text": [
      "Predictions: [378.18878]\n"
     ]
    }
   ],
   "source": [
    "print(\"Predictions:\", predictions)"
   ]
  },
  {
   "cell_type": "code",
   "execution_count": null,
   "metadata": {},
   "outputs": [],
   "source": []
  },
  {
   "cell_type": "code",
   "execution_count": null,
   "metadata": {},
   "outputs": [],
   "source": []
  },
  {
   "cell_type": "code",
   "execution_count": null,
   "metadata": {},
   "outputs": [],
   "source": []
  }
 ],
 "metadata": {
  "kernelspec": {
   "display_name": "Python 3",
   "language": "python",
   "name": "python3"
  },
  "language_info": {
   "codemirror_mode": {
    "name": "ipython",
    "version": 3
   },
   "file_extension": ".py",
   "mimetype": "text/x-python",
   "name": "python",
   "nbconvert_exporter": "python",
   "pygments_lexer": "ipython3",
   "version": "3.10.16"
  }
 },
 "nbformat": 4,
 "nbformat_minor": 2
}
